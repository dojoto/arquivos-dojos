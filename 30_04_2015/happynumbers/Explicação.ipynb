{
 "worksheets": [
  {
   "cells": [
    {
     "cell_type": "markdown",
     "metadata": {},
     "source": [
      "# HappyNumbers\n",
      "\n",
      "**Como saber se um número é *feliz* ou *triste*?**\n",
      "\n",
      "1. Dado um número `inteiro positivo`\n",
      "2. Substitua o número pela *soma dos quadrados dos seus dígitos*.\n",
      "3. Repita o processo até que o resultado seja *1*,\n",
      "4. Ou continue.\n",
      "\n",
      "Os números que resultarem em *1*, são *felizes*.\n",
      "    \n",
      "    Os que não resultarem em 1 são tristes.\n",
      "    \n",
      "## Exemplo\n",
      "\n",
      "O número **7** é feliz?\n",
      "\n",
      "- $7^2 = 49$\n",
      "- $4^2 + 9^2 = 16 + 81 = 97$\n",
      "- $9^2 + 7^2 = 81 + 49 = 130$\n",
      "- $1^2 + 3^2 + 0^2 = 1 + 9 + 0 = 10$\n",
      "- $1^2 + 0^2 = 1$\n",
      "\n",
      "    **7 é Feliz!**\n",
      "\n",
      "O número **4** é feliz?\n",
      "\n",
      "- $4^2 = 16$\n",
      "- $1^2 + 6^2 = 1 + 36 = 37$\n",
      "- $3^2 + 7^2 = 9 + 49 = 58$\n",
      "- $5^2 + 8^2 = 25 + 64 = 89$\n",
      "- $8^2 + 9^2 = 64 + 81 = 145$\n",
      "- $1^2 + 4^2 + 5^2 = 1 + 16 + 25 = 42$\n",
      "- $4^2 + 2^2 = 16 + 4 = 20$\n",
      "- $2^2 + 0^2 = 4 + 0 = 4$\n",
      "\n",
      "    **4 não é feliz!**"
     ]
    },
    {
     "cell_type": "code",
     "metadata": {},
     "outputs": [],
     "input": [
      ""
     ],
     "language": "python"
    }
   ]
  }
 ],
 "cells": [],
 "metadata": {
  "name": "",
  "signature": "sha256:0f51ec8138565302eab247538c8b781a3beb8d598e3c3e4cc4de8296b06076f5"
 },
 "nbformat": 3,
 "nbformat_minor": 0
}